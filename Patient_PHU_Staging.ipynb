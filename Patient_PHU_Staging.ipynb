{
 "cells": [
  {
   "cell_type": "code",
   "execution_count": 1,
   "id": "adverse-termination",
   "metadata": {},
   "outputs": [],
   "source": [
    "import pandas as pd\n",
    "import numpy as np\n",
    "from datetime import datetime, timedelta"
   ]
  },
  {
   "cell_type": "code",
   "execution_count": 2,
   "id": "sorted-celebration",
   "metadata": {},
   "outputs": [],
   "source": [
    "positive_cases = pd.read_csv(\"covid_patients.csv\")"
   ]
  },
  {
   "cell_type": "markdown",
   "id": "ahead-explorer",
   "metadata": {},
   "source": [
    "Patient Dimension and PHU Dimension Staging"
   ]
  },
  {
   "cell_type": "code",
   "execution_count": 3,
   "id": "earlier-cradle",
   "metadata": {},
   "outputs": [],
   "source": [
    "#TODO: PATIENT DIMENSION\n",
    "\n",
    "PHU_dimension = pd.DataFrame(columns=['phu_key','phu_ID', 'name', 'address', 'city','postal_code', 'province', 'url', 'latitude', 'longitude'])"
   ]
  },
  {
   "cell_type": "code",
   "execution_count": 4,
   "id": "attended-benjamin",
   "metadata": {},
   "outputs": [
    {
     "data": {
      "text/html": [
       "<div>\n",
       "<style scoped>\n",
       "    .dataframe tbody tr th:only-of-type {\n",
       "        vertical-align: middle;\n",
       "    }\n",
       "\n",
       "    .dataframe tbody tr th {\n",
       "        vertical-align: top;\n",
       "    }\n",
       "\n",
       "    .dataframe thead th {\n",
       "        text-align: right;\n",
       "    }\n",
       "</style>\n",
       "<table border=\"1\" class=\"dataframe\">\n",
       "  <thead>\n",
       "    <tr style=\"text-align: right;\">\n",
       "      <th></th>\n",
       "      <th>phu_key</th>\n",
       "      <th>phu_ID</th>\n",
       "      <th>name</th>\n",
       "      <th>address</th>\n",
       "      <th>city</th>\n",
       "      <th>postal_code</th>\n",
       "      <th>province</th>\n",
       "      <th>url</th>\n",
       "      <th>latitude</th>\n",
       "      <th>longitude</th>\n",
       "    </tr>\n",
       "  </thead>\n",
       "  <tbody>\n",
       "    <tr>\n",
       "      <th>225</th>\n",
       "      <td>100</td>\n",
       "      <td>3895</td>\n",
       "      <td>Toronto Public Health</td>\n",
       "      <td>277 Victoria Street, 5th Floor</td>\n",
       "      <td>Toronto</td>\n",
       "      <td>M5B 1W2</td>\n",
       "      <td>Ontario</td>\n",
       "      <td>www.toronto.ca/community-people/health-wellnes...</td>\n",
       "      <td>43.656591</td>\n",
       "      <td>-79.379358</td>\n",
       "    </tr>\n",
       "    <tr>\n",
       "      <th>7870</th>\n",
       "      <td>101</td>\n",
       "      <td>2251</td>\n",
       "      <td>Ottawa Public Health</td>\n",
       "      <td>100 Constellation Drive</td>\n",
       "      <td>Ottawa</td>\n",
       "      <td>K2G 6J8</td>\n",
       "      <td>Ontario</td>\n",
       "      <td>www.ottawapublichealth.ca</td>\n",
       "      <td>45.345665</td>\n",
       "      <td>-75.763912</td>\n",
       "    </tr>\n",
       "  </tbody>\n",
       "</table>\n",
       "</div>"
      ],
      "text/plain": [
       "     phu_key  phu_ID                   name                         address  \\\n",
       "225      100    3895  Toronto Public Health  277 Victoria Street, 5th Floor   \n",
       "7870     101    2251   Ottawa Public Health         100 Constellation Drive   \n",
       "\n",
       "         city postal_code province  \\\n",
       "225   Toronto     M5B 1W2  Ontario   \n",
       "7870   Ottawa     K2G 6J8  Ontario   \n",
       "\n",
       "                                                    url   latitude  longitude  \n",
       "225   www.toronto.ca/community-people/health-wellnes...  43.656591 -79.379358  \n",
       "7870                          www.ottawapublichealth.ca  45.345665 -75.763912  "
      ]
     },
     "execution_count": 4,
     "metadata": {},
     "output_type": "execute_result"
    }
   ],
   "source": [
    "#PHU Staging\n",
    "PHU_dimension['phu_ID'] = positive_cases['Reporting_PHU_ID']\n",
    "PHU_dimension['name'] = positive_cases['Reporting_PHU']\n",
    "PHU_dimension['address'] = positive_cases['Reporting_PHU_Address']\n",
    "PHU_dimension['city'] = positive_cases['Reporting_PHU_City']\n",
    "PHU_dimension['postal_code'] = positive_cases['Reporting_PHU_Postal_Code']\n",
    "PHU_dimension['province'] = \"Ontario\"\n",
    "PHU_dimension['url'] = positive_cases['Reporting_PHU_Website']\n",
    "PHU_dimension['latitude'] = positive_cases['Reporting_PHU_Latitude']\n",
    "PHU_dimension['longitude'] = positive_cases['Reporting_PHU_Longitude']\n",
    "\n",
    "#Make PHUs Distinct\n",
    "PHU_dimension.drop_duplicates(inplace=True)\n",
    "\n",
    "#Only get Ottawa and Toronto PHUs\n",
    "cities = [\"Ottawa\", \"Toronto\"]\n",
    "PHU_dimension = PHU_dimension[PHU_dimension.city.isin(cities)]\n",
    "\n",
    "#Create Surrogate Keys\n",
    "key = 100\n",
    "for index, row in PHU_dimension.iterrows():    \n",
    "    PHU_dimension.at[index, \"phu_key\"] = key\n",
    "    key += 1\n",
    "\n",
    "#Show Dimension\n",
    "PHU_dimension.head(10)"
   ]
  },
  {
   "cell_type": "code",
   "execution_count": 5,
   "id": "young-columbus",
   "metadata": {},
   "outputs": [],
   "source": [
    "#TODO: Create csv file for Patient dimension"
   ]
  },
  {
   "cell_type": "code",
   "execution_count": 6,
   "id": "large-remark",
   "metadata": {},
   "outputs": [],
   "source": [
    "#Create csv file for PHU dimension\n",
    "PHU_dimension.to_csv(\"PHU_dimension.csv\",index=False)"
   ]
  },
  {
   "cell_type": "code",
   "execution_count": null,
   "id": "ongoing-validation",
   "metadata": {},
   "outputs": [],
   "source": []
  }
 ],
 "metadata": {
  "kernelspec": {
   "display_name": "Python 3",
   "language": "python",
   "name": "python3"
  },
  "language_info": {
   "codemirror_mode": {
    "name": "ipython",
    "version": 3
   },
   "file_extension": ".py",
   "mimetype": "text/x-python",
   "name": "python",
   "nbconvert_exporter": "python",
   "pygments_lexer": "ipython3",
   "version": "3.9.2"
  }
 },
 "nbformat": 4,
 "nbformat_minor": 5
}

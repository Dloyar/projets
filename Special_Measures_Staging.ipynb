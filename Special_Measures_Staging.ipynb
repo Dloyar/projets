{
 "cells": [
  {
   "cell_type": "code",
   "execution_count": 11,
   "metadata": {},
   "outputs": [],
   "source": [
    "import pandas as pd"
   ]
  },
  {
   "cell_type": "code",
   "execution_count": 12,
   "metadata": {},
   "outputs": [],
   "source": [
    "columns = ['special_measures_key', 'special_measures_ID', 'title', 'description', 'keyword_1', 'keyword_2', 'start_date', 'end_date']\n",
    "sm_df = pd.DataFrame(columns=columns)"
   ]
  },
  {
   "cell_type": "code",
   "execution_count": 13,
   "metadata": {},
   "outputs": [],
   "source": [
    "def add_row_df(df, key, title, description, keyword_1, keyword_2, start_date, end_date):\n",
    "    df.loc[-1] = [key, key, title, description, keyword_1, keyword_2, start_date, end_date]\n",
    "    df.index = df.index + 1\n",
    "    df = df.sort_index()"
   ]
  },
  {
   "cell_type": "markdown",
   "metadata": {},
   "source": [
    "Source: https://globalnews.ca/news/6859636/ontario-coronavirus-timeline/"
   ]
  },
  {
   "cell_type": "code",
   "execution_count": 14,
   "metadata": {},
   "outputs": [],
   "source": [
    "# Add special measures to dataframe\n",
    "add_row_df(sm_df, 0, 'None.', 'No special measures.', 'None', 'None', None, None)\n",
    "add_row_df(sm_df, 1, 'Schools closed.', 'All public schools in Ontario closed.', 'Schools', 'Closed', '2020-03-13', '2020-05-31')\n",
    "add_row_df(sm_df, 2, 'Daycares closed.', 'Ford declares a state of emergency in Ontario while ordering some business to be closed, including daycares, bars and restaurants, theatres and private schools.', 'Daycares', 'Closed', '2020-03-17', '2020-06-09')\n",
    "add_row_df(sm_df, 3, 'US-Canada land border closed.', 'US-Canada land border closed.', 'Border', 'Closed', '2020-03-18', None)\n",
    "add_row_df(sm_df, 4, 'Provincial Parks closed.', ' The Ontario Ministry of Environment, Conservation and Parks shutters provincial parks until April 30 to protect the health of employees and visitors.','Parks', 'Closed', '2020-03-19', '2020-05-11')\n",
    "add_row_df(sm_df, 5, 'All non-essential businesses closed.', 'All non-essential businesses close as Ontario enters lockdown and a state of emergency.', 'Businesses', 'Closed', '2020-03-23', '2020-04-06')\n",
    "add_row_df(sm_df, 6, 'All outdoor amenities closed', 'All outdoor amenities closed.', 'Outdoors', 'Closed', '2020-03-30', '2020-05-11')\n",
    "add_row_df(sm_df, 7, 'Visiting cottages prohibited.', 'Visiting cottages prohibited', 'Cottages', 'Prohibited', '2020-05-01', '2020-06-04')\n",
    "add_row_df(sm_df, 8, 'Stage 2 in Ontario.', 'Ontario announces that some regions of the province will enter Stage 2 of its COVID-19 recovery plan. Toronto, Mississauga and Hamilton are among the areas which are excluded.', 'Ontario', 'Stage 2', '2020-06-08', '2020-07-17')\n",
    "add_row_df(sm_df, 9, 'Stage 3 in Ontario.', 'Ontario announces some of the province will enter Stage 3 of the second phase of its recovery plan on July 17. The Greater Toronto Area, Hamilton, Niagara, Haldimand-Norfolk, Lambton and Windsor-Essex are left in Stage 2.', 'Ontario', 'Stage 3', '2020-07-17', None)\n",
    "add_row_df(sm_df, 10, 'Indoor public gatherings reduced to 10 people. Outdoor gatherings reduced to 25.', 'Ford reduces the number of people allowed at private gathering limits to 10 indoors and 25 outdoors in Toronto, Peel Region and Ottawa. Two days later, they would be expanded across the province.', 'Gathering', 'Limit', '2020-09-19', None)\n",
    "add_row_df(sm_df, 11, 'Restaurants stop serving alcohol at 11 pm.', 'The province orders strip clubs to close while also ordering restaurants, bars   and other food and drink businesses to stop serving alcohol at 11 p.m and close between midnight and 5 a.m.', 'Restaurants', 'Limit', '2020-09-25', None)\n",
    "add_row_df(sm_df, 12, 'Province wide mandatory mask policy.', 'Ontario announces province-wide mask policy as well as restrictions on number of patrons in bars, restaurants, nightclubs, Banquet halls, event spaces and gyms.', 'Masks', 'Mandatory', '2020-10-02', None)\n",
    "add_row_df(sm_df, 13, 'Indoor dining, gyms close in Toronto, Ottawa, and Peel Region.', 'New restrictions are put in place for Toronto, Peel Region and Ottawa amid rising coronavirus cases including the closure of indoor dining at restaurants and bars, as well as the closure of gyms, casinos, cinemas, and performing arts centres.', 'Restaurants', 'Closed', '2020-10-09', '2020-11-06')\n",
    "add_row_df(sm_df, 14, 'Five-tiered colour coded system for special measures implemented.', 'The province introduces a new five-tiered, colour-coded system for determining how it will regulate areas when during the COVID-19 pandemic. The following levels were used: Prevent (standard measures — green), protect (strengthened measures — yellow), restrict (intermediate measures — orange), control (stringent measures — red), and lockdown (maximum measures — grey).', 'Zones', 'Lockdown', '2020-11-03', None)\n",
    "add_row_df(sm_df, 15, 'Southern Province wide shutdown.', 'Doug Ford announces a “provincewide shutdown” which will begin on Boxing Day and last for four weeks in southern areas of the province and two weeks in northern areas.', 'Province', 'Lockdown', '2020-12-26', '2021-01-23')\n",
    "add_row_df(sm_df, 16, 'Northern Province wide shutdown.', 'Doug Ford announces a “provincewide shutdown” which will begin on Boxing Day and last for four weeks in southern areas of the province and two weeks in northern areas.', 'Province', 'Lockdown', '2020-12-26', '2021-01-09')\n",
    "\n"
   ]
  },
  {
   "cell_type": "code",
   "execution_count": 10,
   "metadata": {},
   "outputs": [
    {
     "name": "stdout",
     "output_type": "stream",
     "text": [
      "   special_measures_key special_measures_ID  \\\n",
      "15                    0                   0   \n",
      "14                    1                   1   \n",
      "13                    2                   2   \n",
      "12                    3                   3   \n",
      "11                    4                   4   \n",
      "10                    5                   5   \n",
      "9                     6                   6   \n",
      "8                     7                   7   \n",
      "7                     8                   8   \n",
      "6                     9                   9   \n",
      "5                    10                  10   \n",
      "4                    11                  11   \n",
      "3                    12                  12   \n",
      "2                    13                  13   \n",
      "1                    14                  14   \n",
      "0                    15                  15   \n",
      "\n",
      "                                                title  \\\n",
      "15                                    Schools closed.   \n",
      "14                                   Daycares closed.   \n",
      "13                      US-Canada land border closed.   \n",
      "12                           Provincial Parks closed.   \n",
      "11               All non-essential businesses closed.   \n",
      "10                       All outdoor amenities closed   \n",
      "9                       Visiting cottages prohibited.   \n",
      "8                                 Stage 2 in Ontario.   \n",
      "7                                 Stage 3 in Ontario.   \n",
      "6   Indoor public gatherings reduced to 10 people....   \n",
      "5          Restaurants stop serving alcohol at 11 pm.   \n",
      "4                Province wide mandatory mask policy.   \n",
      "3   Indoor dining, gyms close in Toronto, Ottawa, ...   \n",
      "2   Five-tiered colour coded system for special me...   \n",
      "1                    Southern Province wide shutdown.   \n",
      "0                    Northern Province wide shutdown.   \n",
      "\n",
      "                                          description    keyword_1  \\\n",
      "15              All public schools in Ontario closed.      Schools   \n",
      "14  Ford declares a state of emergency in Ontario ...     Daycares   \n",
      "13                      US-Canada land border closed.       Border   \n",
      "12   The Ontario Ministry of Environment, Conserva...        Parks   \n",
      "11  All non-essential businesses close as Ontario ...   Businesses   \n",
      "10                      All outdoor amenities closed.     Outdoors   \n",
      "9                        Visiting cottages prohibited     Cottages   \n",
      "8   Ontario announces that some regions of the pro...      Ontario   \n",
      "7   Ontario announces some of the province will en...      Ontario   \n",
      "6   Ford reduces the number of people allowed at p...    Gathering   \n",
      "5   The province orders strip clubs to close while...  Restaurants   \n",
      "4   Ontario announces province-wide mask policy as...        Masks   \n",
      "3   New restrictions are put in place for Toronto,...  Restaurants   \n",
      "2   The province introduces a new five-tiered, col...        Zones   \n",
      "1   Doug Ford announces a “provincewide shutdown” ...     Province   \n",
      "0   Doug Ford announces a “provincewide shutdown” ...     Province   \n",
      "\n",
      "     keyword_2  start_date    end_date  \n",
      "15      Closed        None        None  \n",
      "14      Closed  2020-03-17  2020-06-09  \n",
      "13      Closed  2020-03-18        None  \n",
      "12      Closed  2020-03-19  2020-05-11  \n",
      "11      Closed  2020-03-23  2020-04-06  \n",
      "10      Closed  2020-03-30  2020-05-11  \n",
      "9   Prohibited  2020-05-01  2020-06-04  \n",
      "8      Stage 2  2020-06-08  2020-07-17  \n",
      "7      Stage 3  2020-07-17        None  \n",
      "6        Limit  2020-09-19        None  \n",
      "5        Limit  2020-09-25        None  \n",
      "4    Mandatory  2020-10-02        None  \n",
      "3       Closed  2020-10-09  2020-11-06  \n",
      "2     Lockdown  2020-11-03        None  \n",
      "1     Lockdown  2020-12-26  2021-01-23  \n",
      "0     Lockdown  2020-12-26  2021-01-09  \n"
     ]
    }
   ],
   "source": [
    "sm_df.to_csv(\"special_measures_dimension.csv\",index=False)\n",
    "print(sm_df)"
   ]
  },
  {
   "cell_type": "code",
   "execution_count": null,
   "metadata": {},
   "outputs": [],
   "source": []
  }
 ],
 "metadata": {
  "kernelspec": {
   "display_name": "Python 3",
   "language": "python",
   "name": "python3"
  },
  "language_info": {
   "codemirror_mode": {
    "name": "ipython",
    "version": 3
   },
   "file_extension": ".py",
   "mimetype": "text/x-python",
   "name": "python",
   "nbconvert_exporter": "python",
   "pygments_lexer": "ipython3",
   "version": "3.7.1"
  }
 },
 "nbformat": 4,
 "nbformat_minor": 4
}
